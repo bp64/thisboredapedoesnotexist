{
 "cells": [
  {
   "cell_type": "markdown",
   "metadata": {},
   "source": [
    "# Run Super-resolution Model \n",
    "This notebook should be moved into the ``Waifu2x`` directory when ready to use."
   ]
  },
  {
   "cell_type": "code",
   "execution_count": null,
   "metadata": {},
   "outputs": [],
   "source": [
    "import os\n",
    "from pathlib import Path\n",
    "\n",
    "import torch\n",
    "from torch import nn\n",
    "from torchvision.utils import save_image\n",
    "from tqdm.auto import tqdm\n",
    "\n",
    "from Models import CARN_V2\n",
    "from utils.prepare_images import Image, ImageSplitter, to_tensor"
   ]
  },
  {
   "cell_type": "code",
   "execution_count": null,
   "metadata": {},
   "outputs": [],
   "source": [
    "SOURCE_DIR = (\n",
    "    'PATH/TO/LIGHTWEIGHT/GAN/GENERATED/DIRECTORY'\n",
    ")"
   ]
  },
  {
   "cell_type": "code",
   "execution_count": null,
   "metadata": {},
   "outputs": [],
   "source": [
    "save_path = (\n",
    "    (Path(SOURCE_DIR).parent / 'generated_images_super_resolution')\n",
    ")\n",
    "save_path.mkdir(parents=True, exist_ok=True)\n",
    "save_path = str(save_path)\n",
    "\n",
    "\n",
    "save_path"
   ]
  },
  {
   "cell_type": "code",
   "execution_count": null,
   "metadata": {},
   "outputs": [],
   "source": [
    "model = CARN_V2(color_channels=3,\n",
    "                mid_channels=64,\n",
    "                conv=nn.Conv2d,\n",
    "                single_conv_size=3,\n",
    "                single_conv_group=1,\n",
    "                scale=2,\n",
    "                activation=nn.LeakyReLU(0.1),\n",
    "                SEBlock=True,\n",
    "                repeat_blocks=3,\n",
    "                atrous=(1, 1, 1))"
   ]
  },
  {
   "cell_type": "code",
   "execution_count": null,
   "metadata": {},
   "outputs": [],
   "source": [
    "checkpoint = 'ape_model/CARN_model_checkpoint.pt'\n",
    "model.load_state_dict(torch.load(checkpoint, 'cuda'))\n",
    "model = model.cuda()\n",
    "model = model.float()\n",
    "model = model.eval()"
   ]
  },
  {
   "cell_type": "code",
   "execution_count": null,
   "metadata": {},
   "outputs": [],
   "source": [
    "for image_path in tqdm(os.listdir(SOURCE_DIR)):\n",
    "    img = Image.open(os.path.join(SOURCE_DIR, image_path)).convert('RGB')\n",
    "\n",
    "    img_t = to_tensor(img).unsqueeze(0).cuda()\n",
    "\n",
    "    img_upscale = model(img_t)\n",
    "\n",
    "    save_image(img_upscale, os.path.join(save_path, image_path))"
   ]
  },
  {
   "cell_type": "markdown",
   "metadata": {},
   "source": [
    "----- "
   ]
  }
 ],
 "metadata": {
  "kernelspec": {
   "display_name": "Python 3",
   "language": "python",
   "name": "python3"
  },
  "language_info": {
   "codemirror_mode": {
    "name": "ipython",
    "version": 3
   },
   "file_extension": ".py",
   "mimetype": "text/x-python",
   "name": "python",
   "nbconvert_exporter": "python",
   "pygments_lexer": "ipython3",
   "version": "3.8.3"
  }
 },
 "nbformat": 4,
 "nbformat_minor": 4
}
