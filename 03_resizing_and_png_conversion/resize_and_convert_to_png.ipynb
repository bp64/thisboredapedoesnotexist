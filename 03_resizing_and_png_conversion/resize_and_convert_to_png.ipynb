{
 "cells": [
  {
   "cell_type": "markdown",
   "metadata": {},
   "source": [
    "# Resize and Convert to PNG "
   ]
  },
  {
   "cell_type": "code",
   "execution_count": null,
   "metadata": {},
   "outputs": [],
   "source": [
    "import os\n",
    "\n",
    "import numpy as np\n",
    "from PIL import Image\n",
    "from tqdm.auto import tqdm"
   ]
  },
  {
   "cell_type": "code",
   "execution_count": null,
   "metadata": {},
   "outputs": [],
   "source": [
    "generated_apes_paths = 'PATH/TO/SUPER/RESOLUTION/IMAGES/DIRECTORY'\n",
    "resized_save_path = 'generated_images_super_resolution_resized'\n",
    "\n",
    "\n",
    "os.mkdir(resized_save_path)"
   ]
  },
  {
   "cell_type": "code",
   "execution_count": null,
   "metadata": {},
   "outputs": [],
   "source": [
    "an_original_bored_ape_image_path = '/home/nathancooperjones/GitHub/apebase/ipfs_pngs/QmNa3huxzuFy5wNv9U838XWGZj7jX2mPtP3XoTQqSgqyX9.png'\n",
    "\n",
    "original_ape_image = Image.open(an_original_bored_ape_image_path)\n",
    "\n",
    "_, _, _, original_ape_image_alpha = original_ape_image.split()\n",
    "\n",
    "alpha_array = np.array(original_ape_image_alpha)\n",
    "\n",
    "alpha_array_corners = np.full(alpha_array.shape, 255)\n",
    "\n",
    "# I found that the corners take up 17 rows of pixels to complete, so this is my hacky way\n",
    "# of doing this. If we don't do it this way, we end up with extra alpha pixels that are\n",
    "# ape-specific.\n",
    "num_rows_per_corner = 17\n",
    "\n",
    "alpha_array_corners[:num_rows_per_corner] = alpha_array[:num_rows_per_corner]\n",
    "alpha_array_corners[-num_rows_per_corner:] = alpha_array[:num_rows_per_corner][::-1]\n",
    "\n",
    "alpha_array_corners_Image = Image.fromarray(alpha_array_corners.astype('uint8'))"
   ]
  },
  {
   "cell_type": "code",
   "execution_count": null,
   "metadata": {},
   "outputs": [],
   "source": [
    "for generated_ape_path in tqdm(os.listdir(generated_apes_paths)):\n",
    "    full_generated_ape_path = os.path.join(generated_apes_paths, generated_ape_path)\n",
    "    \n",
    "    new_ape_image = (\n",
    "        Image\n",
    "        .open(full_generated_ape_path)\n",
    "        .resize(np.asarray(original_ape_image).shape[0:2])\n",
    "    )\n",
    "    new_ape_image.putalpha(alpha_array_corners_Image)\n",
    "    \n",
    "    full_ape_save_path = (\n",
    "        os.path.join(resized_save_path, generated_ape_path)\n",
    "        .replace('.jpg', '.png')\n",
    "    )\n",
    "    new_ape_image.save(full_ape_save_path, 'PNG')"
   ]
  },
  {
   "cell_type": "markdown",
   "metadata": {},
   "source": [
    "----- "
   ]
  }
 ],
 "metadata": {
  "kernelspec": {
   "display_name": "Python 3",
   "language": "python",
   "name": "python3"
  },
  "language_info": {
   "codemirror_mode": {
    "name": "ipython",
    "version": 3
   },
   "file_extension": ".py",
   "mimetype": "text/x-python",
   "name": "python",
   "nbconvert_exporter": "python",
   "pygments_lexer": "ipython3",
   "version": "3.8.3"
  }
 },
 "nbformat": 4,
 "nbformat_minor": 4
}
